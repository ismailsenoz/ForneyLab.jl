{
 "cells": [
  {
   "cell_type": "markdown",
   "metadata": {},
   "source": [
    "# Structured Variational Message Passing for Estimation\n",
    "\n",
    "In this demo we compare mean-field VMP with structured VMP. We consider a continuous state-space model similar to the one defined in the first and second demo. Initially, we assumed the state evolution noise observed. In the present demo, we are interested in estimating the hidden state in conjunction with the state evolution precision. We assume the observation variance known.\n",
    "\n",
    "\\begin{align*}\n",
    "    s_t &\\sim \\mathcal{N}(s_{t-1}, w^{-1})\\\\\n",
    "    x_t &\\sim \\mathcal{N}(s_t, v)\\,.\n",
    "\\end{align*}\n",
    "\n",
    "We choose vague priors\n",
    "\n",
    "\\begin{align*}\n",
    "    s_0 &\\sim \\mathcal{N}(0, 100)\\\\\n",
    "    w &\\sim \\mathcal{G}am(0.01, 0.01)\\,.\n",
    "\\end{align*}"
   ]
  },
  {
   "cell_type": "markdown",
   "metadata": {},
   "source": [
    "## Generate toy dataset"
   ]
  },
  {
   "cell_type": "code",
   "execution_count": 1,
   "metadata": {},
   "outputs": [],
   "source": [
    "n_samples = 3\n",
    "v_data = 1.0\n",
    "w_data = 10.0\n",
    "s_0_data = 0.0\n",
    "\n",
    "s_data = Vector{Float64}(undef, n_samples)\n",
    "x_data = Vector{Float64}(undef, n_samples)\n",
    "s_t_min_data = s_0_data\n",
    "for t = 1:n_samples\n",
    "    s_data[t] = s_t_min_data + sqrt(1/w_data)*randn() # Evolution model\n",
    "    x_data[t] = s_data[t] + sqrt(v_data)*randn() # Observation model\n",
    "    \n",
    "    s_t_min_data = s_data[t]\n",
    "end\n",
    ";"
   ]
  },
  {
   "cell_type": "markdown",
   "metadata": {},
   "source": [
    "## Model specification"
   ]
  },
  {
   "cell_type": "code",
   "execution_count": 2,
   "metadata": {},
   "outputs": [],
   "source": [
    "using ForneyLab\n",
    "\n",
    "g = FactorGraph()\n",
    "\n",
    "@RV w ~ Gamma(0.01, 0.01)\n",
    "@RV s_0 ~ GaussianMeanVariance(0.0, 100.0)\n",
    "\n",
    "s = Vector{Variable}(undef, n_samples)\n",
    "x = Vector{Variable}(undef, n_samples)\n",
    "s_t_min = s_0\n",
    "for t = 1:n_samples\n",
    "    @RV s[t] ~ GaussianMeanPrecision(s_t_min, w)\n",
    "    @RV x[t] ~ GaussianMeanVariance(s[t], v_data)\n",
    "    \n",
    "    s_t_min = s[t]\n",
    "    \n",
    "    placeholder(x[t], :x, index=t)\n",
    "end\n",
    ";"
   ]
  },
  {
   "cell_type": "markdown",
   "metadata": {},
   "source": [
    "## Mean-field algorithm generation\n",
    "\n",
    "First we schedule the mean-field algorithm, which fully factorizes the posterior distribution as\n",
    "\n",
    "\\begin{align*}\n",
    "    q(w, s_0, \\dots, s_T) = q(w)\\prod_{t=0}^T q(s_t)\n",
    "\\end{align*}"
   ]
  },
  {
   "cell_type": "code",
   "execution_count": 3,
   "metadata": {},
   "outputs": [],
   "source": [
    "# Define posterior factorization\n",
    "pfz = PosteriorFactorization()\n",
    "q_w = PosteriorFactor(w, id=:W)\n",
    "q_s_0 = PosteriorFactor(s_0, id=:S_0)\n",
    "\n",
    "q_s = Vector{PosteriorFactor}(undef, n_samples)\n",
    "for t=1:n_samples\n",
    "    q_s[t] = PosteriorFactor(s[t],id=:S_*t)\n",
    "end\n",
    "\n",
    "# Compile algorithm\n",
    "algo_mf = variationalAlgorithm(pfz, id=:MF, free_energy=true)\n",
    "\n",
    "# Generate source code\n",
    "code_mf = algorithmSourceCode(algo_mf, free_energy=true);"
   ]
  },
  {
   "cell_type": "markdown",
   "metadata": {},
   "source": [
    "## Mean-field execution"
   ]
  },
  {
   "cell_type": "code",
   "execution_count": 4,
   "metadata": {},
   "outputs": [
    {
     "ename": "UndefVarError",
     "evalue": "UndefVarError: algo_w_mf not defined",
     "output_type": "error",
     "traceback": [
      "UndefVarError: algo_w_mf not defined",
      "",
      "Stacktrace:",
      " [1] top-level scope at In[4]:1"
     ]
    }
   ],
   "source": [
    "display(Meta.parse(algo_w_mf))"
   ]
  },
  {
   "cell_type": "code",
   "execution_count": 5,
   "metadata": {},
   "outputs": [
    {
     "ename": "UndefVarError",
     "evalue": "UndefVarError: algo_s_mf not defined",
     "output_type": "error",
     "traceback": [
      "UndefVarError: algo_s_mf not defined",
      "",
      "Stacktrace:",
      " [1] top-level scope at In[5]:1"
     ]
    }
   ],
   "source": [
    "println(algo_s_mf)"
   ]
  },
  {
   "cell_type": "code",
   "execution_count": 6,
   "metadata": {},
   "outputs": [],
   "source": [
    "# Load algorithm\n",
    "eval(Meta.parse(code_mf))\n",
    "\n",
    "# Initialize data\n",
    "data = Dict(:x => x_data)\n",
    "n_its = 40\n",
    "\n",
    "# Initial posterior factors\n",
    "marginals_mf = Dict{Symbol, ProbabilityDistribution}(:w => vague(Gamma))\n",
    "for t = 0:n_samples\n",
    "    marginals_mf[:s_*t] = vague(GaussianMeanPrecision)\n",
    "end\n",
    "\n",
    "# Run algorithm\n",
    "F_mf = Vector{Float64}(undef, n_its)\n",
    "for i = 1:n_its\n",
    "    for k = 0:n_samples\n",
    "        step!(:MFS_*k, data, marginals_mf)\n",
    "        stepMFW!(data, marginals_mf)\n",
    "    end\n",
    "\n",
    "    F_mf[i] = freeEnergyMF(data, marginals_mf)\n",
    "end\n",
    ";"
   ]
  },
  {
   "cell_type": "markdown",
   "metadata": {},
   "source": [
    "## Structured algorithm generation\n",
    "\n",
    "The structured algorithm retains the state-dependencies in the posterior factorization\n",
    "\n",
    "\\begin{align*}\n",
    "    q(w, s_0, \\dots, s_T) = q(w)\\times q(s_0, \\dots, s_T)\\,.\n",
    "\\end{align*}"
   ]
  },
  {
   "cell_type": "code",
   "execution_count": 7,
   "metadata": {},
   "outputs": [],
   "source": [
    "# Compile algorithm\n",
    "algo_struct = variationalAlgorithm(w, [s_0; s]; ids=[:W, :S], id=:Struct, free_energy=true)\n",
    "\n",
    "# Generate source code\n",
    "code_struct = algorithmSourceCode(algo_struct, free_energy=true);"
   ]
  },
  {
   "cell_type": "markdown",
   "metadata": {},
   "source": [
    "## Structured execution"
   ]
  },
  {
   "cell_type": "code",
   "execution_count": 8,
   "metadata": {},
   "outputs": [],
   "source": [
    "# Load algorithm\n",
    "eval(Meta.parse(code_struct))\n",
    "\n",
    "# Initial posterior factors\n",
    "marginals_struct = Dict{Symbol, ProbabilityDistribution}(:w => vague(Gamma))\n",
    "\n",
    "# Run algorithm\n",
    "F_struct = Vector{Float64}(undef, n_its)\n",
    "for i = 1:n_its\n",
    "    stepStructS!(data, marginals_struct)\n",
    "    stepStructW!(data, marginals_struct)\n",
    "\n",
    "    F_struct[i] = freeEnergyStruct(data, marginals_struct)\n",
    "end\n",
    ";"
   ]
  },
  {
   "cell_type": "markdown",
   "metadata": {},
   "source": [
    "## Results\n",
    "\n",
    "The results show a smoother fit for the state estimates of the structured algorithm. Inspecting the free energy, the plot for structured algorithm eventually dives below the plot for the mean-field algorithm, indicating the smoother fit to be a better explanation for the data."
   ]
  },
  {
   "cell_type": "code",
   "execution_count": 9,
   "metadata": {},
   "outputs": [
    {
     "data": {
      "image/png": "[encoded data removed]",
      "text/plain": [
       "Figure(PyObject <Figure size 800x400 with 2 Axes>)"
      ]
     },
     "metadata": {},
     "output_type": "display_data"
    }
   ],
   "source": [
    "using PyPlot\n",
    "\n",
    "# Collect state estimates\n",
    "m_s_mf = [mean(marginals_mf[:s_*t]) for t=0:n_samples]\n",
    "v_s_mf = [var(marginals_mf[:s_*t]) for t=0:n_samples]\n",
    "m_s_struct = [mean(marginals_struct[:s_*t]) for t=0:n_samples]\n",
    "v_s_struct = [var(marginals_struct[:s_*t]) for t=0:n_samples]\n",
    "\n",
    "# Plot estimated state\n",
    "figure(figsize=(8,4))\n",
    "subplot(121)\n",
    "plot(collect(1:n_samples), x_data, \"*\", label=\"Data\", color=\"black\")\n",
    "plot(collect(0:n_samples), [0.0; s_data], \"k-\", label=\"True hidden state\")\n",
    "plot(collect(0:n_samples), m_s_struct, \"b-\", label=\"Structured state estimate\")\n",
    "fill_between(collect(0:n_samples), m_s_struct-sqrt.(v_s_struct), m_s_struct+sqrt.(v_s_struct), color=\"b\", alpha=0.3);\n",
    "plot(collect(0:n_samples), m_s_mf, \"r-\", label=\"Mean-field state estimate\")\n",
    "fill_between(collect(0:n_samples), m_s_mf-sqrt.(v_s_mf), m_s_mf+sqrt.(v_s_mf), color=\"r\", alpha=0.3);\n",
    "grid(\"on\")\n",
    "xlabel(\"Time\")\n",
    "legend(loc=\"upper left\", bbox_to_anchor=[-0.05, 1.5]);\n",
    "\n",
    "subplot(122)\n",
    "plot(1:n_its, F_struct, color=\"blue\", label=\"Structured\")\n",
    "plot(1:n_its, F_mf, color=\"red\", label=\"Mean-field\")\n",
    "grid(\"on\")\n",
    "legend()\n",
    "yscale(\"log\")\n",
    "xlabel(\"VMP iteration\")\n",
    "ylabel(\"Variational free energy\")\n",
    "tight_layout();"
   ]
  },
  {
   "cell_type": "code",
   "execution_count": null,
   "metadata": {},
   "outputs": [],
   "source": []
  }
 ],
 "metadata": {
  "@webio": {
   "lastCommId": null,
   "lastKernelId": null
  },
  "kernelspec": {
   "display_name": "Julia 1.3.0",
   "language": "julia",
   "name": "julia-1.3"
  },
  "language_info": {
   "file_extension": ".jl",
   "mimetype": "application/julia",
   "name": "julia",
   "version": "1.3.0"
  }
 },
 "nbformat": 4,
 "nbformat_minor": 4
}
